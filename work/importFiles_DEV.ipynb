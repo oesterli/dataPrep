{
 "cells": [
  {
   "cell_type": "code",
   "execution_count": 2,
   "metadata": {},
   "outputs": [],
   "source": [
    "import geopandas as gpd\n"
   ]
  },
  {
   "cell_type": "markdown",
   "metadata": {},
   "source": [
    "## Read Geopackage"
   ]
  },
  {
   "cell_type": "code",
   "execution_count": 18,
   "metadata": {
    "scrolled": true
   },
   "outputs": [
    {
     "data": {
      "text/html": [
       "<div>\n",
       "<style scoped>\n",
       "    .dataframe tbody tr th:only-of-type {\n",
       "        vertical-align: middle;\n",
       "    }\n",
       "\n",
       "    .dataframe tbody tr th {\n",
       "        vertical-align: top;\n",
       "    }\n",
       "\n",
       "    .dataframe thead th {\n",
       "        text-align: right;\n",
       "    }\n",
       "</style>\n",
       "<table border=\"1\" class=\"dataframe\">\n",
       "  <thead>\n",
       "    <tr style=\"text-align: right;\">\n",
       "      <th></th>\n",
       "      <th>visible</th>\n",
       "      <th>update_date</th>\n",
       "      <th>creation_date</th>\n",
       "      <th>kind</th>\n",
       "      <th>restriction</th>\n",
       "      <th>restriction_until</th>\n",
       "      <th>srs</th>\n",
       "      <th>qt_location</th>\n",
       "      <th>elevation_z</th>\n",
       "      <th>hrs</th>\n",
       "      <th>...</th>\n",
       "      <th>custom_drill_diameter</th>\n",
       "      <th>custom_qt_bore_inc_dir</th>\n",
       "      <th>custom_qt_length</th>\n",
       "      <th>custom_qt_top_bedrock</th>\n",
       "      <th>custom_lit_pet_top_bedrock</th>\n",
       "      <th>custom_lit_str_top_bedrock</th>\n",
       "      <th>custom_chro_str_top_bedrock</th>\n",
       "      <th>custom_remarks</th>\n",
       "      <th>workflow_role</th>\n",
       "      <th>geometry</th>\n",
       "    </tr>\n",
       "  </thead>\n",
       "  <tbody>\n",
       "    <tr>\n",
       "      <th>0</th>\n",
       "      <td>0</td>\n",
       "      <td>2021-07-01T09:16:27+00</td>\n",
       "      <td>2020-04-09T15:03:06+00</td>\n",
       "      <td>20101001.0</td>\n",
       "      <td>20111001.0</td>\n",
       "      <td>NULL</td>\n",
       "      <td>20104001</td>\n",
       "      <td>NaN</td>\n",
       "      <td>556.4</td>\n",
       "      <td>20106001</td>\n",
       "      <td>...</td>\n",
       "      <td>NaN</td>\n",
       "      <td>NaN</td>\n",
       "      <td>22115005.0</td>\n",
       "      <td>22108006.0</td>\n",
       "      <td>15102009.0</td>\n",
       "      <td>NaN</td>\n",
       "      <td>15001025.0</td>\n",
       "      <td>Meine erste Bohrung\\n\\nLink zum Bohrprofil\\nht...</td>\n",
       "      <td>PUBLIC</td>\n",
       "      <td>POINT (2603933.720 1198619.100)</td>\n",
       "    </tr>\n",
       "    <tr>\n",
       "      <th>1</th>\n",
       "      <td>0</td>\n",
       "      <td>2021-07-01T09:16:27+00</td>\n",
       "      <td>2020-04-16T12:36:22+00</td>\n",
       "      <td>20101001.0</td>\n",
       "      <td>20111001.0</td>\n",
       "      <td>NULL</td>\n",
       "      <td>20104001</td>\n",
       "      <td>NaN</td>\n",
       "      <td>NaN</td>\n",
       "      <td>20106001</td>\n",
       "      <td>...</td>\n",
       "      <td>NaN</td>\n",
       "      <td>NaN</td>\n",
       "      <td>22115001.0</td>\n",
       "      <td>22108001.0</td>\n",
       "      <td>15101001.0</td>\n",
       "      <td>15200218.0</td>\n",
       "      <td>15001014.0</td>\n",
       "      <td></td>\n",
       "      <td>EDIT</td>\n",
       "      <td>POINT (2597827.150 1164260.740)</td>\n",
       "    </tr>\n",
       "    <tr>\n",
       "      <th>2</th>\n",
       "      <td>0</td>\n",
       "      <td>2021-07-01T09:16:27+00</td>\n",
       "      <td>2020-05-05T13:02:08+00</td>\n",
       "      <td>20101001.0</td>\n",
       "      <td>20111001.0</td>\n",
       "      <td>NULL</td>\n",
       "      <td>20104001</td>\n",
       "      <td>20113006.0</td>\n",
       "      <td>611.4</td>\n",
       "      <td>20106001</td>\n",
       "      <td>...</td>\n",
       "      <td>NaN</td>\n",
       "      <td>2211603.0</td>\n",
       "      <td>22115005.0</td>\n",
       "      <td>22108005.0</td>\n",
       "      <td>15102009.0</td>\n",
       "      <td>15200418.0</td>\n",
       "      <td>15001026.0</td>\n",
       "      <td></td>\n",
       "      <td>CONTROL</td>\n",
       "      <td>POINT (2605359.710 1198852.170)</td>\n",
       "    </tr>\n",
       "    <tr>\n",
       "      <th>3</th>\n",
       "      <td>0</td>\n",
       "      <td>2021-07-01T09:16:27+00</td>\n",
       "      <td>2020-05-12T07:35:34+00</td>\n",
       "      <td>20101001.0</td>\n",
       "      <td>20111001.0</td>\n",
       "      <td>NULL</td>\n",
       "      <td>20104001</td>\n",
       "      <td>20113004.0</td>\n",
       "      <td>1000.0</td>\n",
       "      <td>20106001</td>\n",
       "      <td>...</td>\n",
       "      <td>200.0</td>\n",
       "      <td>2211602.0</td>\n",
       "      <td>22115004.0</td>\n",
       "      <td>22108002.0</td>\n",
       "      <td>15102024.0</td>\n",
       "      <td>15200348.0</td>\n",
       "      <td>15001002.0</td>\n",
       "      <td></td>\n",
       "      <td>CONTROL</td>\n",
       "      <td>POINT (2624811.380 1259277.950)</td>\n",
       "    </tr>\n",
       "    <tr>\n",
       "      <th>4</th>\n",
       "      <td>0</td>\n",
       "      <td>2021-07-01T09:16:27+00</td>\n",
       "      <td>2020-06-04T08:04:33+00</td>\n",
       "      <td>20101001.0</td>\n",
       "      <td>20111001.0</td>\n",
       "      <td>NULL</td>\n",
       "      <td>20104001</td>\n",
       "      <td>20113004.0</td>\n",
       "      <td>441.0</td>\n",
       "      <td>20106001</td>\n",
       "      <td>...</td>\n",
       "      <td>200.0</td>\n",
       "      <td>2211603.0</td>\n",
       "      <td>22115003.0</td>\n",
       "      <td>22108003.0</td>\n",
       "      <td>15101079.0</td>\n",
       "      <td>15201338.0</td>\n",
       "      <td>15001003.0</td>\n",
       "      <td>Gruss</td>\n",
       "      <td>EDIT</td>\n",
       "      <td>POINT (2678280.830 1221531.690)</td>\n",
       "    </tr>\n",
       "  </tbody>\n",
       "</table>\n",
       "<p>5 rows × 38 columns</p>\n",
       "</div>"
      ],
      "text/plain": [
       "   visible             update_date           creation_date        kind  \\\n",
       "0        0  2021-07-01T09:16:27+00  2020-04-09T15:03:06+00  20101001.0   \n",
       "1        0  2021-07-01T09:16:27+00  2020-04-16T12:36:22+00  20101001.0   \n",
       "2        0  2021-07-01T09:16:27+00  2020-05-05T13:02:08+00  20101001.0   \n",
       "3        0  2021-07-01T09:16:27+00  2020-05-12T07:35:34+00  20101001.0   \n",
       "4        0  2021-07-01T09:16:27+00  2020-06-04T08:04:33+00  20101001.0   \n",
       "\n",
       "   restriction restriction_until       srs  qt_location  elevation_z  \\\n",
       "0   20111001.0              NULL  20104001          NaN        556.4   \n",
       "1   20111001.0              NULL  20104001          NaN          NaN   \n",
       "2   20111001.0              NULL  20104001   20113006.0        611.4   \n",
       "3   20111001.0              NULL  20104001   20113004.0       1000.0   \n",
       "4   20111001.0              NULL  20104001   20113004.0        441.0   \n",
       "\n",
       "        hrs  ...  custom_drill_diameter custom_qt_bore_inc_dir  \\\n",
       "0  20106001  ...                    NaN                    NaN   \n",
       "1  20106001  ...                    NaN                    NaN   \n",
       "2  20106001  ...                    NaN              2211603.0   \n",
       "3  20106001  ...                  200.0              2211602.0   \n",
       "4  20106001  ...                  200.0              2211603.0   \n",
       "\n",
       "   custom_qt_length  custom_qt_top_bedrock  custom_lit_pet_top_bedrock  \\\n",
       "0        22115005.0             22108006.0                  15102009.0   \n",
       "1        22115001.0             22108001.0                  15101001.0   \n",
       "2        22115005.0             22108005.0                  15102009.0   \n",
       "3        22115004.0             22108002.0                  15102024.0   \n",
       "4        22115003.0             22108003.0                  15101079.0   \n",
       "\n",
       "  custom_lit_str_top_bedrock  custom_chro_str_top_bedrock  \\\n",
       "0                        NaN                   15001025.0   \n",
       "1                 15200218.0                   15001014.0   \n",
       "2                 15200418.0                   15001026.0   \n",
       "3                 15200348.0                   15001002.0   \n",
       "4                 15201338.0                   15001003.0   \n",
       "\n",
       "                                      custom_remarks  workflow_role  \\\n",
       "0  Meine erste Bohrung\\n\\nLink zum Bohrprofil\\nht...         PUBLIC   \n",
       "1                                                              EDIT   \n",
       "2                                                           CONTROL   \n",
       "3                                                           CONTROL   \n",
       "4                                              Gruss           EDIT   \n",
       "\n",
       "                          geometry  \n",
       "0  POINT (2603933.720 1198619.100)  \n",
       "1  POINT (2597827.150 1164260.740)  \n",
       "2  POINT (2605359.710 1198852.170)  \n",
       "3  POINT (2624811.380 1259277.950)  \n",
       "4  POINT (2678280.830 1221531.690)  \n",
       "\n",
       "[5 rows x 38 columns]"
      ]
     },
     "execution_count": 18,
     "metadata": {},
     "output_type": "execute_result"
    }
   ],
   "source": [
    "data_gpkg = gpd.read_file(\"../scr/data/input/bh/sf/bdms-export-20210818140036/swissforages.gpkg\")\n",
    "data_gpkg.head()\n"
   ]
  },
  {
   "cell_type": "code",
   "execution_count": 13,
   "metadata": {
    "scrolled": true
   },
   "outputs": [
    {
     "name": "stdout",
     "output_type": "stream",
     "text": [
      "(70, 38)\n",
      "Index(['visible', 'update_date', 'creation_date', 'kind', 'restriction',\n",
      "       'restriction_until', 'srs', 'qt_location', 'elevation_z', 'hrs',\n",
      "       'qt_elevation', 'drilling_date', 'bore_inc', 'bore_inc_dir', 'length',\n",
      "       'extended_original_name', 'extended_method', 'extended_purpose',\n",
      "       'extended_status', 'extended_top_bedrock', 'extended_groundwater',\n",
      "       'custom_project_name', 'custom_public_name', 'custom_canton',\n",
      "       'custom_city', 'custom_address', 'custom_landuse', 'custom_cuttings',\n",
      "       'custom_drill_diameter', 'custom_qt_bore_inc_dir', 'custom_qt_length',\n",
      "       'custom_qt_top_bedrock', 'custom_lit_pet_top_bedrock',\n",
      "       'custom_lit_str_top_bedrock', 'custom_chro_str_top_bedrock',\n",
      "       'custom_remarks', 'workflow_role', 'geometry'],\n",
      "      dtype='object')\n"
     ]
    }
   ],
   "source": [
    "print(data_gpkg.shape)\n",
    "print(data_gpkg.columns)\n"
   ]
  },
  {
   "cell_type": "markdown",
   "metadata": {},
   "source": [
    "## Read csv"
   ]
  },
  {
   "cell_type": "code",
   "execution_count": 10,
   "metadata": {},
   "outputs": [
    {
     "data": {
      "text/html": [
       "<div>\n",
       "<style scoped>\n",
       "    .dataframe tbody tr th:only-of-type {\n",
       "        vertical-align: middle;\n",
       "    }\n",
       "\n",
       "    .dataframe tbody tr th {\n",
       "        vertical-align: top;\n",
       "    }\n",
       "\n",
       "    .dataframe thead th {\n",
       "        text-align: right;\n",
       "    }\n",
       "</style>\n",
       "<table border=\"1\" class=\"dataframe\">\n",
       "  <thead>\n",
       "    <tr style=\"text-align: right;\">\n",
       "      <th></th>\n",
       "      <th>id</th>\n",
       "      <th>Original name</th>\n",
       "      <th>Project name</th>\n",
       "      <th>Public name</th>\n",
       "      <th>Borehole kind</th>\n",
       "      <th>Restriction</th>\n",
       "      <th>Restriction date</th>\n",
       "      <th>Coordinate E</th>\n",
       "      <th>Coordinate N</th>\n",
       "      <th>SRS</th>\n",
       "      <th>...</th>\n",
       "      <th>Unique id</th>\n",
       "      <th>CH</th>\n",
       "      <th>InfoGeol</th>\n",
       "      <th>Original ID</th>\n",
       "      <th>geoquat</th>\n",
       "      <th>geomol</th>\n",
       "      <th>geotherm</th>\n",
       "      <th>kantons ID</th>\n",
       "      <th>test</th>\n",
       "      <th>geometry</th>\n",
       "    </tr>\n",
       "  </thead>\n",
       "  <tbody>\n",
       "    <tr>\n",
       "      <th>0</th>\n",
       "      <td>327</td>\n",
       "      <td>1/95 Erstfeld</td>\n",
       "      <td>Hydrogeologische Untersuchungen für Tagbautunn...</td>\n",
       "      <td>1/95 Erstfeld</td>\n",
       "      <td>20101001</td>\n",
       "      <td>20111002</td>\n",
       "      <td></td>\n",
       "      <td>2692358</td>\n",
       "      <td>1187373</td>\n",
       "      <td>20104001</td>\n",
       "      <td>...</td>\n",
       "      <td></td>\n",
       "      <td></td>\n",
       "      <td></td>\n",
       "      <td></td>\n",
       "      <td></td>\n",
       "      <td></td>\n",
       "      <td></td>\n",
       "      <td></td>\n",
       "      <td></td>\n",
       "      <td>None</td>\n",
       "    </tr>\n",
       "    <tr>\n",
       "      <th>1</th>\n",
       "      <td>327</td>\n",
       "      <td>1/95 Erstfeld</td>\n",
       "      <td>Hydrogeologische Untersuchungen für Tagbautunn...</td>\n",
       "      <td>1/95 Erstfeld</td>\n",
       "      <td>20101001</td>\n",
       "      <td>20111002</td>\n",
       "      <td></td>\n",
       "      <td>2692358</td>\n",
       "      <td>1187373</td>\n",
       "      <td>20104001</td>\n",
       "      <td>...</td>\n",
       "      <td></td>\n",
       "      <td></td>\n",
       "      <td></td>\n",
       "      <td></td>\n",
       "      <td></td>\n",
       "      <td></td>\n",
       "      <td></td>\n",
       "      <td></td>\n",
       "      <td></td>\n",
       "      <td>None</td>\n",
       "    </tr>\n",
       "    <tr>\n",
       "      <th>2</th>\n",
       "      <td>327</td>\n",
       "      <td>1/95 Erstfeld</td>\n",
       "      <td>Hydrogeologische Untersuchungen für Tagbautunn...</td>\n",
       "      <td>1/95 Erstfeld</td>\n",
       "      <td>20101001</td>\n",
       "      <td>20111002</td>\n",
       "      <td></td>\n",
       "      <td>2692358</td>\n",
       "      <td>1187373</td>\n",
       "      <td>20104001</td>\n",
       "      <td>...</td>\n",
       "      <td></td>\n",
       "      <td></td>\n",
       "      <td></td>\n",
       "      <td></td>\n",
       "      <td></td>\n",
       "      <td></td>\n",
       "      <td></td>\n",
       "      <td></td>\n",
       "      <td></td>\n",
       "      <td>None</td>\n",
       "    </tr>\n",
       "    <tr>\n",
       "      <th>3</th>\n",
       "      <td>327</td>\n",
       "      <td>1/95 Erstfeld</td>\n",
       "      <td>Hydrogeologische Untersuchungen für Tagbautunn...</td>\n",
       "      <td>1/95 Erstfeld</td>\n",
       "      <td>20101001</td>\n",
       "      <td>20111002</td>\n",
       "      <td></td>\n",
       "      <td>2692358</td>\n",
       "      <td>1187373</td>\n",
       "      <td>20104001</td>\n",
       "      <td>...</td>\n",
       "      <td></td>\n",
       "      <td></td>\n",
       "      <td></td>\n",
       "      <td></td>\n",
       "      <td></td>\n",
       "      <td></td>\n",
       "      <td></td>\n",
       "      <td></td>\n",
       "      <td></td>\n",
       "      <td>None</td>\n",
       "    </tr>\n",
       "    <tr>\n",
       "      <th>4</th>\n",
       "      <td>327</td>\n",
       "      <td>1/95 Erstfeld</td>\n",
       "      <td>Hydrogeologische Untersuchungen für Tagbautunn...</td>\n",
       "      <td>1/95 Erstfeld</td>\n",
       "      <td>20101001</td>\n",
       "      <td>20111002</td>\n",
       "      <td></td>\n",
       "      <td>2692358</td>\n",
       "      <td>1187373</td>\n",
       "      <td>20104001</td>\n",
       "      <td>...</td>\n",
       "      <td></td>\n",
       "      <td></td>\n",
       "      <td></td>\n",
       "      <td></td>\n",
       "      <td></td>\n",
       "      <td></td>\n",
       "      <td></td>\n",
       "      <td></td>\n",
       "      <td></td>\n",
       "      <td>None</td>\n",
       "    </tr>\n",
       "  </tbody>\n",
       "</table>\n",
       "<p>5 rows × 80 columns</p>\n",
       "</div>"
      ],
      "text/plain": [
       "    id  Original name                                       Project name  \\\n",
       "0  327  1/95 Erstfeld  Hydrogeologische Untersuchungen für Tagbautunn...   \n",
       "1  327  1/95 Erstfeld  Hydrogeologische Untersuchungen für Tagbautunn...   \n",
       "2  327  1/95 Erstfeld  Hydrogeologische Untersuchungen für Tagbautunn...   \n",
       "3  327  1/95 Erstfeld  Hydrogeologische Untersuchungen für Tagbautunn...   \n",
       "4  327  1/95 Erstfeld  Hydrogeologische Untersuchungen für Tagbautunn...   \n",
       "\n",
       "     Public name Borehole kind Restriction Restriction date Coordinate E  \\\n",
       "0  1/95 Erstfeld      20101001    20111002                       2692358   \n",
       "1  1/95 Erstfeld      20101001    20111002                       2692358   \n",
       "2  1/95 Erstfeld      20101001    20111002                       2692358   \n",
       "3  1/95 Erstfeld      20101001    20111002                       2692358   \n",
       "4  1/95 Erstfeld      20101001    20111002                       2692358   \n",
       "\n",
       "  Coordinate N       SRS  ... Unique id CH InfoGeol Original ID geoquat  \\\n",
       "0      1187373  20104001  ...                                             \n",
       "1      1187373  20104001  ...                                             \n",
       "2      1187373  20104001  ...                                             \n",
       "3      1187373  20104001  ...                                             \n",
       "4      1187373  20104001  ...                                             \n",
       "\n",
       "  geomol geotherm kantons ID test geometry  \n",
       "0                                     None  \n",
       "1                                     None  \n",
       "2                                     None  \n",
       "3                                     None  \n",
       "4                                     None  \n",
       "\n",
       "[5 rows x 80 columns]"
      ]
     },
     "execution_count": 10,
     "metadata": {},
     "output_type": "execute_result"
    }
   ],
   "source": [
    "data_csv = gpd.read_file(\"../scr/data/input/bh/sf/full-export-20210818140828.csv\")\n",
    "data_csv.head()\n"
   ]
  },
  {
   "cell_type": "code",
   "execution_count": 14,
   "metadata": {},
   "outputs": [
    {
     "name": "stdout",
     "output_type": "stream",
     "text": [
      "(70, 80)\n",
      "Index(['id', 'Original name', 'Project name', 'Public name', 'Borehole kind',\n",
      "       'Restriction', 'Restriction date', 'Coordinate E', 'Coordinate N',\n",
      "       'SRS', 'QC coordinates', 'Elevation Z [masl]', 'HRS', 'QC elevation Z',\n",
      "       'Land use', 'Canton', 'City', 'Street', 'Drilling method',\n",
      "       'Drill end date', 'Cuttings', 'Purpose', 'Drill diameter',\n",
      "       'Status of borehole', 'Inclination', 'Inc. Direction',\n",
      "       'QC inc/direction', 'Depth (MD) [m]', 'QC depth', 'Top bedrock [m]',\n",
      "       'QC top bedrock', 'Groundwater', 'stratigraphy_id', 'stratigraphy_name',\n",
      "       'depth_from', 'depth_to', 'description', 'geology', 'qt_description',\n",
      "       'lithology', 'lithostratigraphy', 'chronostratigraphy', 'tectonic_unit',\n",
      "       'symbol', 'color', 'plasticity', 'humidity', 'consistance',\n",
      "       'alteration', 'compactness', 'jointing', 'soil_state',\n",
      "       'organic_component', 'striae', 'grain_size_1', 'grain_size_2',\n",
      "       'grain_shape', 'grain_granularity', 'further_properties', 'uscs_1',\n",
      "       'uscs_2', 'uscs_3', 'uscs_original', 'uscs_determination', 'unconrocks',\n",
      "       'debris', 'lit_pet_deb', 'lithok', 'kirost', 'notes', 'Unique id', 'CH',\n",
      "       'InfoGeol', 'Original ID', 'geoquat', 'geomol', 'geotherm',\n",
      "       'kantons ID', 'test', 'geometry'],\n",
      "      dtype='object')\n"
     ]
    }
   ],
   "source": [
    "print(data_csv.shape)\n",
    "print(data_csv.columns)\n"
   ]
  },
  {
   "cell_type": "markdown",
   "metadata": {},
   "source": [
    "# Read Shapefile"
   ]
  },
  {
   "cell_type": "code",
   "execution_count": 15,
   "metadata": {},
   "outputs": [
    {
     "data": {
      "text/html": [
       "<div>\n",
       "<style scoped>\n",
       "    .dataframe tbody tr th:only-of-type {\n",
       "        vertical-align: middle;\n",
       "    }\n",
       "\n",
       "    .dataframe tbody tr th {\n",
       "        vertical-align: top;\n",
       "    }\n",
       "\n",
       "    .dataframe thead th {\n",
       "        text-align: right;\n",
       "    }\n",
       "</style>\n",
       "<table border=\"1\" class=\"dataframe\">\n",
       "  <thead>\n",
       "    <tr style=\"text-align: right;\">\n",
       "      <th></th>\n",
       "      <th>ID</th>\n",
       "      <th>ORIGINAL_N</th>\n",
       "      <th>PROJECT_NA</th>\n",
       "      <th>PUBLIC_NAM</th>\n",
       "      <th>BOREHOLE_K</th>\n",
       "      <th>RESTRICTIO</th>\n",
       "      <th>SRS</th>\n",
       "      <th>QC_COORDIN</th>\n",
       "      <th>ELEVATION_</th>\n",
       "      <th>HRS</th>\n",
       "      <th>...</th>\n",
       "      <th>UNIQUE_ID</th>\n",
       "      <th>CH</th>\n",
       "      <th>INFOGEOL</th>\n",
       "      <th>ORIGINAL_I</th>\n",
       "      <th>GEOQUAT</th>\n",
       "      <th>GEOMOL</th>\n",
       "      <th>GEOTHERM</th>\n",
       "      <th>KANTONS_ID</th>\n",
       "      <th>TEST</th>\n",
       "      <th>geometry</th>\n",
       "    </tr>\n",
       "  </thead>\n",
       "  <tbody>\n",
       "    <tr>\n",
       "      <th>0</th>\n",
       "      <td>327</td>\n",
       "      <td>1/95 Erstfeld</td>\n",
       "      <td>Hydrogeologische Untersuchungen fÃ¼r Tagbautunnel</td>\n",
       "      <td>1/95 Erstfeld</td>\n",
       "      <td>drilling</td>\n",
       "      <td>None</td>\n",
       "      <td>CH1903+ LV 95 (EPSG:2056)</td>\n",
       "      <td>5 m (Â± GPS )</td>\n",
       "      <td>480.82</td>\n",
       "      <td>LN02</td>\n",
       "      <td>...</td>\n",
       "      <td>None</td>\n",
       "      <td>None</td>\n",
       "      <td>31184</td>\n",
       "      <td>B 95/12, 1000.1000-10</td>\n",
       "      <td>None</td>\n",
       "      <td>None</td>\n",
       "      <td>None</td>\n",
       "      <td>None</td>\n",
       "      <td>None</td>\n",
       "      <td>POINT (2692358.000 1187373.000)</td>\n",
       "    </tr>\n",
       "    <tr>\n",
       "      <th>1</th>\n",
       "      <td>328</td>\n",
       "      <td>2/95 Erstfeld</td>\n",
       "      <td>Hydrogeologische Untersuchungen fÃ¼r Tagbautunnel</td>\n",
       "      <td>2/95 Erstfeld</td>\n",
       "      <td>drilling</td>\n",
       "      <td>None</td>\n",
       "      <td>CH1903+ LV 95 (EPSG:2056)</td>\n",
       "      <td>5 m (Â± GPS )</td>\n",
       "      <td>471.09</td>\n",
       "      <td>LN02</td>\n",
       "      <td>...</td>\n",
       "      <td>None</td>\n",
       "      <td>None</td>\n",
       "      <td>31184</td>\n",
       "      <td>B 95/12, 1000.1000-10</td>\n",
       "      <td>None</td>\n",
       "      <td>None</td>\n",
       "      <td>None</td>\n",
       "      <td>None</td>\n",
       "      <td>None</td>\n",
       "      <td>POINT (2692332.000 1187347.000)</td>\n",
       "    </tr>\n",
       "    <tr>\n",
       "      <th>2</th>\n",
       "      <td>329</td>\n",
       "      <td>3/95 Erstfeld</td>\n",
       "      <td>Hydrogeologische Untersuchungen fÃ¼r Tagbautunnel</td>\n",
       "      <td>3/95 Erstfeld</td>\n",
       "      <td>drilling</td>\n",
       "      <td>None</td>\n",
       "      <td>CH1903+ LV 95 (EPSG:2056)</td>\n",
       "      <td>5 m (Â± GPS )</td>\n",
       "      <td>482.13</td>\n",
       "      <td>LN02</td>\n",
       "      <td>...</td>\n",
       "      <td>None</td>\n",
       "      <td>None</td>\n",
       "      <td>31184</td>\n",
       "      <td>B 95/12, 1000.1000-10</td>\n",
       "      <td>None</td>\n",
       "      <td>None</td>\n",
       "      <td>None</td>\n",
       "      <td>None</td>\n",
       "      <td>None</td>\n",
       "      <td>POINT (2692333.000 1187433.000)</td>\n",
       "    </tr>\n",
       "    <tr>\n",
       "      <th>3</th>\n",
       "      <td>362</td>\n",
       "      <td>23.Z.43</td>\n",
       "      <td>None</td>\n",
       "      <td>23.Z.43</td>\n",
       "      <td>drilling</td>\n",
       "      <td>2021-03-11</td>\n",
       "      <td>CH1903+ LV 95 (EPSG:2056)</td>\n",
       "      <td>10 cm (Â± DGPS / Theodolite)</td>\n",
       "      <td>None</td>\n",
       "      <td>LN02</td>\n",
       "      <td>...</td>\n",
       "      <td>None</td>\n",
       "      <td>None</td>\n",
       "      <td>None</td>\n",
       "      <td>None</td>\n",
       "      <td>None</td>\n",
       "      <td>None</td>\n",
       "      <td>None</td>\n",
       "      <td>None</td>\n",
       "      <td>None</td>\n",
       "      <td>POINT (2610990.600 1265472.930)</td>\n",
       "    </tr>\n",
       "  </tbody>\n",
       "</table>\n",
       "<p>4 rows × 39 columns</p>\n",
       "</div>"
      ],
      "text/plain": [
       "    ID     ORIGINAL_N                                         PROJECT_NA  \\\n",
       "0  327  1/95 Erstfeld  Hydrogeologische Untersuchungen fÃ¼r Tagbautunnel   \n",
       "1  328  2/95 Erstfeld  Hydrogeologische Untersuchungen fÃ¼r Tagbautunnel   \n",
       "2  329  3/95 Erstfeld  Hydrogeologische Untersuchungen fÃ¼r Tagbautunnel   \n",
       "3  362        23.Z.43                                               None   \n",
       "\n",
       "      PUBLIC_NAM BOREHOLE_K  RESTRICTIO                        SRS  \\\n",
       "0  1/95 Erstfeld   drilling        None  CH1903+ LV 95 (EPSG:2056)   \n",
       "1  2/95 Erstfeld   drilling        None  CH1903+ LV 95 (EPSG:2056)   \n",
       "2  3/95 Erstfeld   drilling        None  CH1903+ LV 95 (EPSG:2056)   \n",
       "3        23.Z.43   drilling  2021-03-11  CH1903+ LV 95 (EPSG:2056)   \n",
       "\n",
       "                     QC_COORDIN ELEVATION_   HRS  ... UNIQUE_ID    CH  \\\n",
       "0                 5 m (Â± GPS )     480.82  LN02  ...      None  None   \n",
       "1                 5 m (Â± GPS )     471.09  LN02  ...      None  None   \n",
       "2                 5 m (Â± GPS )     482.13  LN02  ...      None  None   \n",
       "3  10 cm (Â± DGPS / Theodolite)       None  LN02  ...      None  None   \n",
       "\n",
       "  INFOGEOL             ORIGINAL_I GEOQUAT GEOMOL GEOTHERM KANTONS_ID  TEST  \\\n",
       "0    31184  B 95/12, 1000.1000-10    None   None     None       None  None   \n",
       "1    31184  B 95/12, 1000.1000-10    None   None     None       None  None   \n",
       "2    31184  B 95/12, 1000.1000-10    None   None     None       None  None   \n",
       "3     None                   None    None   None     None       None  None   \n",
       "\n",
       "                          geometry  \n",
       "0  POINT (2692358.000 1187373.000)  \n",
       "1  POINT (2692332.000 1187347.000)  \n",
       "2  POINT (2692333.000 1187433.000)  \n",
       "3  POINT (2610990.600 1265472.930)  \n",
       "\n",
       "[4 rows x 39 columns]"
      ]
     },
     "execution_count": 15,
     "metadata": {},
     "output_type": "execute_result"
    }
   ],
   "source": [
    "data_shp = gpd.read_file(\"../scr/data/input/bh/sf/export-20210818141348/export-20210818141348.shp\")\n",
    "data_shp.head()\n"
   ]
  },
  {
   "cell_type": "code",
   "execution_count": 17,
   "metadata": {},
   "outputs": [
    {
     "name": "stdout",
     "output_type": "stream",
     "text": [
      "(4, 39)\n",
      "Index(['ID', 'ORIGINAL_N', 'PROJECT_NA', 'PUBLIC_NAM', 'BOREHOLE_K',\n",
      "       'RESTRICTIO', 'SRS', 'QC_COORDIN', 'ELEVATION_', 'HRS', 'QC_ELEVATI',\n",
      "       'LAND_USE', 'CANTON', 'CITY', 'STREET', 'DRILLING_M', 'DRILL_END_',\n",
      "       'CUTTINGS', 'PURPOSE', 'DRILL_DIAM', 'STATUS_OF_', 'INCLINATIO',\n",
      "       'INC._DIREC', 'QC_INC/DIR', 'DEPTH_(MD)', 'QC_DEPTH', 'TOP_BEDROC',\n",
      "       'QC_TOP_BED', 'GROUNDWATE', 'UNIQUE_ID', 'CH', 'INFOGEOL', 'ORIGINAL_I',\n",
      "       'GEOQUAT', 'GEOMOL', 'GEOTHERM', 'KANTONS_ID', 'TEST', 'geometry'],\n",
      "      dtype='object')\n"
     ]
    }
   ],
   "source": [
    "print(data_shp.shape)\n",
    "print(data_shp.columns)"
   ]
  },
  {
   "cell_type": "code",
   "execution_count": 21,
   "metadata": {},
   "outputs": [],
   "source": [
    "def test():\n",
    "    x = 1\n",
    "    return x\n",
    "\n",
    "\n",
    "\n"
   ]
  },
  {
   "cell_type": "code",
   "execution_count": 22,
   "metadata": {},
   "outputs": [
    {
     "data": {
      "text/plain": [
       "1"
      ]
     },
     "execution_count": 22,
     "metadata": {},
     "output_type": "execute_result"
    }
   ],
   "source": [
    "test()"
   ]
  },
  {
   "cell_type": "code",
   "execution_count": 23,
   "metadata": {},
   "outputs": [],
   "source": [
    "import json\n"
   ]
  },
  {
   "cell_type": "code",
   "execution_count": 24,
   "metadata": {},
   "outputs": [],
   "source": [
    "dict = {}"
   ]
  },
  {
   "cell_type": "code",
   "execution_count": 46,
   "metadata": {},
   "outputs": [],
   "source": [
    "dict['root_path'] = 'scr/data/input/bh'"
   ]
  },
  {
   "cell_type": "code",
   "execution_count": 30,
   "metadata": {},
   "outputs": [],
   "source": [
    "dict['in_dir_bh'] = \"os.path.join(root_dir, 'os.path.join(root_dir, 'data/input/bh'')\""
   ]
  },
  {
   "cell_type": "code",
   "execution_count": 31,
   "metadata": {},
   "outputs": [
    {
     "data": {
      "text/plain": [
       "{'root_path': '../scr/data/input/bh/',\n",
       " 'in_dir_bh': \"os.path.join(root_dir, 'os.path.join(root_dir, 'data/input/bh'')\"}"
      ]
     },
     "execution_count": 31,
     "metadata": {},
     "output_type": "execute_result"
    }
   ],
   "source": [
    "dict"
   ]
  },
  {
   "cell_type": "code",
   "execution_count": 42,
   "metadata": {},
   "outputs": [
    {
     "data": {
      "text/plain": [
       "'./scr/data/input/bh'"
      ]
     },
     "execution_count": 42,
     "metadata": {},
     "output_type": "execute_result"
    }
   ],
   "source": [
    "dict['root_path']"
   ]
  },
  {
   "cell_type": "code",
   "execution_count": 37,
   "metadata": {},
   "outputs": [
    {
     "data": {
      "text/plain": [
       "'/Users/oesterli/Documents/_temp/bhPrep/work'"
      ]
     },
     "execution_count": 37,
     "metadata": {},
     "output_type": "execute_result"
    }
   ],
   "source": [
    "%pwd"
   ]
  },
  {
   "cell_type": "code",
   "execution_count": 50,
   "metadata": {},
   "outputs": [
    {
     "data": {
      "text/plain": [
       "'scr/data/input/bh'"
      ]
     },
     "execution_count": 50,
     "metadata": {},
     "output_type": "execute_result"
    }
   ],
   "source": [
    "dict['root_path']"
   ]
  },
  {
   "cell_type": "code",
   "execution_count": 51,
   "metadata": {},
   "outputs": [
    {
     "data": {
      "text/plain": [
       "'/Users/oesterli/Documents/_temp/bhPrep/work'"
      ]
     },
     "execution_count": 51,
     "metadata": {},
     "output_type": "execute_result"
    }
   ],
   "source": [
    "import os\n",
    "os.getcwd()"
   ]
  },
  {
   "cell_type": "code",
   "execution_count": 56,
   "metadata": {},
   "outputs": [],
   "source": [
    "import json\n"
   ]
  },
  {
   "cell_type": "code",
   "execution_count": 62,
   "metadata": {},
   "outputs": [],
   "source": [
    "# REA\n",
    "test = open(\"/Users/oesterli/Documents/_temp/bhPrep/work/config.json\",)\n",
    "test = json.load(test)"
   ]
  },
  {
   "cell_type": "code",
   "execution_count": 63,
   "metadata": {},
   "outputs": [
    {
     "data": {
      "text/plain": [
       "{'bsp_key': 'bsp_value',\n",
       " 'root_path': '/Users/oesterli/Documents/_temp/bhPrep/scr/',\n",
       " 'xxx': 'yyy'}"
      ]
     },
     "execution_count": 63,
     "metadata": {},
     "output_type": "execute_result"
    }
   ],
   "source": [
    "test\n"
   ]
  },
  {
   "cell_type": "code",
   "execution_count": 75,
   "metadata": {},
   "outputs": [
    {
     "ename": "AttributeError",
     "evalue": "module 'pandas' has no attribute 'Da'",
     "output_type": "error",
     "traceback": [
      "\u001b[0;31m---------------------------------------------------------------------------\u001b[0m",
      "\u001b[0;31mAttributeError\u001b[0m                            Traceback (most recent call last)",
      "\u001b[0;32m<ipython-input-75-56d8d16cd486>\u001b[0m in \u001b[0;36m<module>\u001b[0;34m\u001b[0m\n\u001b[1;32m      1\u001b[0m \u001b[0;32mimport\u001b[0m \u001b[0mpandas\u001b[0m \u001b[0;32mas\u001b[0m \u001b[0mpd\u001b[0m\u001b[0;34m\u001b[0m\u001b[0;34m\u001b[0m\u001b[0m\n\u001b[0;32m----> 2\u001b[0;31m \u001b[0mdf\u001b[0m \u001b[0;34m=\u001b[0m \u001b[0mpd\u001b[0m\u001b[0;34m.\u001b[0m\u001b[0mDa\u001b[0m\u001b[0;34m\u001b[0m\u001b[0;34m\u001b[0m\u001b[0m\n\u001b[0m",
      "\u001b[0;32m~/anaconda3/envs/env02/lib/python3.7/site-packages/pandas/__init__.py\u001b[0m in \u001b[0;36m__getattr__\u001b[0;34m(name)\u001b[0m\n\u001b[1;32m    261\u001b[0m             \u001b[0;32mreturn\u001b[0m \u001b[0m_SparseArray\u001b[0m\u001b[0;34m\u001b[0m\u001b[0;34m\u001b[0m\u001b[0m\n\u001b[1;32m    262\u001b[0m \u001b[0;34m\u001b[0m\u001b[0m\n\u001b[0;32m--> 263\u001b[0;31m         \u001b[0;32mraise\u001b[0m \u001b[0mAttributeError\u001b[0m\u001b[0;34m(\u001b[0m\u001b[0;34mf\"module 'pandas' has no attribute '{name}'\"\u001b[0m\u001b[0;34m)\u001b[0m\u001b[0;34m\u001b[0m\u001b[0;34m\u001b[0m\u001b[0m\n\u001b[0m\u001b[1;32m    264\u001b[0m \u001b[0;34m\u001b[0m\u001b[0m\n\u001b[1;32m    265\u001b[0m \u001b[0;34m\u001b[0m\u001b[0m\n",
      "\u001b[0;31mAttributeError\u001b[0m: module 'pandas' has no attribute 'Da'"
     ]
    }
   ],
   "source": [
    "import pandas as pd\n",
    "df = pd.DataFrame()\n",
    "df = pd.read"
   ]
  },
  {
   "cell_type": "code",
   "execution_count": 74,
   "metadata": {},
   "outputs": [
    {
     "data": {
      "text/plain": [
       "'/Users/oesterli/Documents/_temp/bhPrep/scr/'"
      ]
     },
     "execution_count": 74,
     "metadata": {},
     "output_type": "execute_result"
    }
   ],
   "source": [
    "conf['root_path']"
   ]
  },
  {
   "cell_type": "code",
   "execution_count": 80,
   "metadata": {},
   "outputs": [
    {
     "data": {
      "text/html": [
       "<div>\n",
       "<style scoped>\n",
       "    .dataframe tbody tr th:only-of-type {\n",
       "        vertical-align: middle;\n",
       "    }\n",
       "\n",
       "    .dataframe tbody tr th {\n",
       "        vertical-align: top;\n",
       "    }\n",
       "\n",
       "    .dataframe thead th {\n",
       "        text-align: right;\n",
       "    }\n",
       "</style>\n",
       "<table border=\"1\" class=\"dataframe\">\n",
       "  <thead>\n",
       "    <tr style=\"text-align: right;\">\n",
       "      <th></th>\n",
       "      <th>ADDPROPS</th>\n",
       "      <th>ALTERATION</th>\n",
       "      <th>ANZSCHICHT</th>\n",
       "      <th>ARTANSATZZ</th>\n",
       "      <th>ATTRIBEARB</th>\n",
       "      <th>BAUGRDKLAS</th>\n",
       "      <th>BEARBDATUM</th>\n",
       "      <th>BEARBDATUM_1</th>\n",
       "      <th>BEARBDATUM_2</th>\n",
       "      <th>BEARBSTATU</th>\n",
       "      <th>...</th>\n",
       "      <th>USCS1</th>\n",
       "      <th>USCS2</th>\n",
       "      <th>USCS3</th>\n",
       "      <th>USCSBEST</th>\n",
       "      <th>USCSORIGIN</th>\n",
       "      <th>XCOORD</th>\n",
       "      <th>YCOORD</th>\n",
       "      <th>ZCOORDB</th>\n",
       "      <th>ZCOORDE</th>\n",
       "      <th>index</th>\n",
       "    </tr>\n",
       "  </thead>\n",
       "  <tbody>\n",
       "    <tr>\n",
       "      <th>0</th>\n",
       "      <td>ka</td>\n",
       "      <td>ka</td>\n",
       "      <td>1</td>\n",
       "      <td>OKT</td>\n",
       "      <td>nng</td>\n",
       "      <td>NaN</td>\n",
       "      <td>2019-11-26 11:32:28</td>\n",
       "      <td>2019-11-26 00:00:00</td>\n",
       "      <td>2019-11-26 00:00:00</td>\n",
       "      <td>prod</td>\n",
       "      <td>...</td>\n",
       "      <td>kunst</td>\n",
       "      <td>ka</td>\n",
       "      <td>ka</td>\n",
       "      <td>3int</td>\n",
       "      <td>ka</td>\n",
       "      <td>2499908.79</td>\n",
       "      <td>1115080.1</td>\n",
       "      <td>387.12</td>\n",
       "      <td>0</td>\n",
       "      <td>11150</td>\n",
       "    </tr>\n",
       "    <tr>\n",
       "      <th>1</th>\n",
       "      <td>ka</td>\n",
       "      <td>ka</td>\n",
       "      <td>1</td>\n",
       "      <td>OKT</td>\n",
       "      <td>nng</td>\n",
       "      <td>NaN</td>\n",
       "      <td>2019-11-26 11:32:28</td>\n",
       "      <td>2019-11-26 00:00:00</td>\n",
       "      <td>2019-11-26 00:00:00</td>\n",
       "      <td>prod</td>\n",
       "      <td>...</td>\n",
       "      <td>g</td>\n",
       "      <td>s</td>\n",
       "      <td>ka</td>\n",
       "      <td>3int</td>\n",
       "      <td>ka</td>\n",
       "      <td>2499908.79</td>\n",
       "      <td>1115080.1</td>\n",
       "      <td>387.12</td>\n",
       "      <td>0</td>\n",
       "      <td>11151</td>\n",
       "    </tr>\n",
       "    <tr>\n",
       "      <th>2</th>\n",
       "      <td>ka</td>\n",
       "      <td>ka</td>\n",
       "      <td>1</td>\n",
       "      <td>OKT</td>\n",
       "      <td>nng</td>\n",
       "      <td>NaN</td>\n",
       "      <td>2019-11-26 11:32:28</td>\n",
       "      <td>2019-11-26 00:00:00</td>\n",
       "      <td>2019-11-26 00:00:00</td>\n",
       "      <td>prod</td>\n",
       "      <td>...</td>\n",
       "      <td>ml</td>\n",
       "      <td>st</td>\n",
       "      <td>ka</td>\n",
       "      <td>3int</td>\n",
       "      <td>ka</td>\n",
       "      <td>2499908.79</td>\n",
       "      <td>1115080.1</td>\n",
       "      <td>387.12</td>\n",
       "      <td>0</td>\n",
       "      <td>11152</td>\n",
       "    </tr>\n",
       "    <tr>\n",
       "      <th>3</th>\n",
       "      <td>ka</td>\n",
       "      <td>ka</td>\n",
       "      <td>1</td>\n",
       "      <td>OKT</td>\n",
       "      <td>nng</td>\n",
       "      <td>NaN</td>\n",
       "      <td>2019-11-26 11:32:28</td>\n",
       "      <td>2019-11-26 00:00:00</td>\n",
       "      <td>2019-11-26 00:00:00</td>\n",
       "      <td>prod</td>\n",
       "      <td>...</td>\n",
       "      <td>gm</td>\n",
       "      <td>s</td>\n",
       "      <td>ka</td>\n",
       "      <td>3int</td>\n",
       "      <td>ka</td>\n",
       "      <td>2499908.79</td>\n",
       "      <td>1115080.1</td>\n",
       "      <td>387.12</td>\n",
       "      <td>0</td>\n",
       "      <td>11153</td>\n",
       "    </tr>\n",
       "    <tr>\n",
       "      <th>4</th>\n",
       "      <td>ka</td>\n",
       "      <td>ka</td>\n",
       "      <td>1</td>\n",
       "      <td>OKT</td>\n",
       "      <td>nng</td>\n",
       "      <td>NaN</td>\n",
       "      <td>2019-11-26 11:32:28</td>\n",
       "      <td>2019-11-26 00:00:00</td>\n",
       "      <td>2019-11-26 00:00:00</td>\n",
       "      <td>prod</td>\n",
       "      <td>...</td>\n",
       "      <td>gp</td>\n",
       "      <td>s</td>\n",
       "      <td>ka</td>\n",
       "      <td>3int</td>\n",
       "      <td>ka</td>\n",
       "      <td>2499908.79</td>\n",
       "      <td>1115080.1</td>\n",
       "      <td>387.12</td>\n",
       "      <td>0</td>\n",
       "      <td>11154</td>\n",
       "    </tr>\n",
       "  </tbody>\n",
       "</table>\n",
       "<p>5 rows × 105 columns</p>\n",
       "</div>"
      ],
      "text/plain": [
       "  ADDPROPS ALTERATION  ANZSCHICHT ARTANSATZZ ATTRIBEARB  BAUGRDKLAS  \\\n",
       "0       ka         ka           1        OKT        nng         NaN   \n",
       "1       ka         ka           1        OKT        nng         NaN   \n",
       "2       ka         ka           1        OKT        nng         NaN   \n",
       "3       ka         ka           1        OKT        nng         NaN   \n",
       "4       ka         ka           1        OKT        nng         NaN   \n",
       "\n",
       "            BEARBDATUM         BEARBDATUM_1         BEARBDATUM_2 BEARBSTATU  \\\n",
       "0  2019-11-26 11:32:28  2019-11-26 00:00:00  2019-11-26 00:00:00       prod   \n",
       "1  2019-11-26 11:32:28  2019-11-26 00:00:00  2019-11-26 00:00:00       prod   \n",
       "2  2019-11-26 11:32:28  2019-11-26 00:00:00  2019-11-26 00:00:00       prod   \n",
       "3  2019-11-26 11:32:28  2019-11-26 00:00:00  2019-11-26 00:00:00       prod   \n",
       "4  2019-11-26 11:32:28  2019-11-26 00:00:00  2019-11-26 00:00:00       prod   \n",
       "\n",
       "   ...  USCS1  USCS2 USCS3 USCSBEST USCSORIGIN      XCOORD     YCOORD ZCOORDB  \\\n",
       "0  ...  kunst     ka    ka     3int         ka  2499908.79  1115080.1  387.12   \n",
       "1  ...      g      s    ka     3int         ka  2499908.79  1115080.1  387.12   \n",
       "2  ...     ml     st    ka     3int         ka  2499908.79  1115080.1  387.12   \n",
       "3  ...     gm      s    ka     3int         ka  2499908.79  1115080.1  387.12   \n",
       "4  ...     gp      s    ka     3int         ka  2499908.79  1115080.1  387.12   \n",
       "\n",
       "  ZCOORDE  index  \n",
       "0       0  11150  \n",
       "1       0  11151  \n",
       "2       0  11152  \n",
       "3       0  11153  \n",
       "4       0  11154  \n",
       "\n",
       "[5 rows x 105 columns]"
      ]
     },
     "execution_count": 80,
     "metadata": {},
     "output_type": "execute_result"
    }
   ],
   "source": [
    "import pandas as pd\n",
    "import geopandas as gpd\n",
    "from shapely.geometry import Point\n",
    "\n",
    "#data = pd.read_csv('/Users/oesterli/Documents/_temp/bhPrep/scr/data/input/bh/sampleBH.csv', error_bad_lines=False)\n",
    "\n",
    "#print(data.shape)\n",
    "\n",
    "\n",
    "#data =pd.read_csv('/Users/oesterli/Documents/_temp/bhPrep/scr/data/input/bh/sampleBH.csv', sep=';')\n",
    "data =pd.read_csv('/Users/oesterli/Documents/_temp/bhPrep/work/data/out/bh_raw_2021-08-23_08-26-51.csv', sep=';')\n",
    "\n",
    "\n",
    "data.head()"
   ]
  },
  {
   "cell_type": "code",
   "execution_count": 83,
   "metadata": {},
   "outputs": [
    {
     "data": {
      "image/png": "[encoded data removed]",
      "text/plain": [
       "<Figure size 432x288 with 1 Axes>"
      ]
     },
     "metadata": {
      "needs_background": "light"
     },
     "output_type": "display_data"
    }
   ],
   "source": [
    "import matplotlib.pyplot as plt\n",
    "import numpy as np\n",
    "\n",
    "#fig = plt.figure()  # an empty figure with no Axes\n",
    "fig, ax = plt.subplots()  # a figure with a single Axes\n",
    "#fig, axs = plt.subplots(2, 2)  # a figure with a 2x2 grid of Axes"
   ]
  },
  {
   "cell_type": "code",
   "execution_count": null,
   "metadata": {},
   "outputs": [],
   "source": []
  }
 ],
 "metadata": {
  "kernelspec": {
   "display_name": "env02",
   "language": "python",
   "name": "env02"
  },
  "language_info": {
   "codemirror_mode": {
    "name": "ipython",
    "version": 3
   },
   "file_extension": ".py",
   "mimetype": "text/x-python",
   "name": "python",
   "nbconvert_exporter": "python",
   "pygments_lexer": "ipython3",
   "version": "3.7.6"
  }
 },
 "nbformat": 4,
 "nbformat_minor": 4
}
